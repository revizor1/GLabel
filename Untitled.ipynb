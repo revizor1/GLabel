{
 "cells": [
  {
   "cell_type": "code",
   "execution_count": 1,
   "metadata": {
    "scrolled": true
   },
   "outputs": [
    {
     "name": "stdout",
     "output_type": "stream",
     "text": [
      "762x1200\tpage2-8.png\t\n",
      "762x1200\tpage2-9.png\t\n",
      "762x1200\tpage3-12.png\t\n",
      "762x1200\tpage3-13.png\t\n",
      "1200x1800\tpage4-16.png\tB1193 > 5 > 114-4086832-4364200 > 1 item\n",
      "762x1200\tpage4-17.png\t\n",
      "762x1200\tpage5-20.png\t\n",
      "762x1200\tpage5-21.png\t\n",
      "800x1200\tpage6-24.png\tB1193 > 9 > 280-175-931-2062 > 3 items\n",
      "762x1200\tpage6-25.png\t\n",
      "1200x1800\tpage7-28.png\tB1193 > 11 > 114-7809907-0898633 > 1 item\n",
      "1200x1800\tpage7-29.png\tB1193 > 12 > 114-7467059-3739409 > 1 item\n"
     ]
    }
   ],
   "source": [
    "import os, fitz # https://pymupdf.readthedocs.io/en/latest/tutorial/\n",
    "from PIL import Image\n",
    "\n",
    "def convert(input_file = \"label.pdf\"):\n",
    "    pdf = fitz.open(input_file)\n",
    "    labels = {}\n",
    "    for no in range(len(pdf)):\n",
    "        i = 0\n",
    "        paragraphs = pdf.loadPage(no).getTextBlocks()\n",
    "    #     for paragraph in paragraphs:\n",
    "    #         print(paragraph)\n",
    "        for image in pdf.getPageImageList(no):\n",
    "            xref = image[0]\n",
    "            pix = fitz.Pixmap(pdf, xref)\n",
    "            if pix.n > 4:        # CMYK vs GRAY or RGB\n",
    "                pix = fitz.Pixmap(fitz.csRGB, pix)\n",
    "            file = \"page%s-%s.png\" % (no, xref)\n",
    "            pix.writePNG(file)\n",
    "            pix = None\n",
    "\n",
    "            img  = Image.open(file)\n",
    "            width, height = img.size\n",
    "            if width > height: # Landscape, have to rotate -90\n",
    "                width, height = height, width\n",
    "                img = img.rotate(270, expand=True)\n",
    "                img.save(file)\n",
    "            if height == 2200: # USPS Summary Page\n",
    "                continue\n",
    "            if height < 1801 and width < 1201:\n",
    "                labels[file] = paragraphs[i*3+2][4]\n",
    "            if width == 762 and height == 1200:\n",
    "                labels[file] = ''\n",
    "            img = None\n",
    "            print(f\"{width}x{height}\\t{file}\\t{labels[file]}\")\n",
    "            i += 1\n",
    "\n",
    "    doc = fitz.open()\n",
    "    rect = fitz.Rect(0, 0, 280, 410)\n",
    "    for label in labels:\n",
    "        pix = fitz.Pixmap(label)\n",
    "        page = doc.newPage(width = 282, height = 424)\n",
    "        page.insertImage(rect, pixmap = pix)\n",
    "\n",
    "        p1 = fitz.Point(12, page.rect.height - 6)\n",
    "        shape = page.newShape()\n",
    "        shape.insertText(p1, labels[label], fontsize = 12)\n",
    "        shape.commit()\n",
    "#         os.remove(label)\n",
    "    doc.save('output.pdf', garbage=4, deflate=1)\n",
    "\n",
    "convert('label.pdf')"
   ]
  },
  {
   "cell_type": "code",
   "execution_count": null,
   "metadata": {},
   "outputs": [],
   "source": [
    "`"
   ]
  }
 ],
 "metadata": {
  "kernelspec": {
   "display_name": "Python 3",
   "language": "python",
   "name": "python3"
  },
  "language_info": {
   "codemirror_mode": {
    "name": "ipython",
    "version": 3
   },
   "file_extension": ".py",
   "mimetype": "text/x-python",
   "name": "python",
   "nbconvert_exporter": "python",
   "pygments_lexer": "ipython3",
   "version": "3.7.3"
  }
 },
 "nbformat": 4,
 "nbformat_minor": 2
}
